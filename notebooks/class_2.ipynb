{
 "cells": [
  {
   "cell_type": "code",
   "id": "2efd0474-b10d-402e-8a8e-1649c930abd8",
   "metadata": {
    "ExecuteTime": {
     "end_time": "2025-10-01T18:38:46.245713Z",
     "start_time": "2025-10-01T18:38:46.241897Z"
    }
   },
   "source": "from unilab import hello",
   "outputs": [],
   "execution_count": 1
  },
  {
   "metadata": {
    "ExecuteTime": {
     "end_time": "2025-10-01T18:38:46.256664Z",
     "start_time": "2025-10-01T18:38:46.253542Z"
    }
   },
   "cell_type": "code",
   "source": "hello(\"Nilton\")",
   "id": "494fafe2d46b1230",
   "outputs": [
    {
     "data": {
      "text/plain": [
       "'Hello, Nilton! Wellcome to master class project: Jupyter + Python.'"
      ]
     },
     "execution_count": 2,
     "metadata": {},
     "output_type": "execute_result"
    }
   ],
   "execution_count": 2
  },
  {
   "metadata": {
    "ExecuteTime": {
     "end_time": "2025-10-01T18:38:46.270722Z",
     "start_time": "2025-10-01T18:38:46.268457Z"
    }
   },
   "cell_type": "code",
   "source": [
    "x = 4.5\n",
    "type(x)"
   ],
   "id": "e67d33763cac762c",
   "outputs": [
    {
     "data": {
      "text/plain": [
       "float"
      ]
     },
     "execution_count": 3,
     "metadata": {},
     "output_type": "execute_result"
    }
   ],
   "execution_count": 3
  },
  {
   "metadata": {
    "ExecuteTime": {
     "end_time": "2025-10-01T18:38:46.285003Z",
     "start_time": "2025-10-01T18:38:46.282353Z"
    }
   },
   "cell_type": "code",
   "source": [
    "y = 2\n",
    "type(y)"
   ],
   "id": "7dbc42e2d488e8a2",
   "outputs": [
    {
     "data": {
      "text/plain": [
       "int"
      ]
     },
     "execution_count": 4,
     "metadata": {},
     "output_type": "execute_result"
    }
   ],
   "execution_count": 4
  },
  {
   "metadata": {
    "ExecuteTime": {
     "end_time": "2025-10-01T18:38:46.295086Z",
     "start_time": "2025-10-01T18:38:46.292557Z"
    }
   },
   "cell_type": "code",
   "source": [
    "z = 4.5\n",
    "print(type(z))\n",
    "z = int(z)\n",
    "z"
   ],
   "id": "4d9a5a2d49d29c5f",
   "outputs": [
    {
     "name": "stdout",
     "output_type": "stream",
     "text": [
      "<class 'float'>\n"
     ]
    },
    {
     "data": {
      "text/plain": [
       "4"
      ]
     },
     "execution_count": 5,
     "metadata": {},
     "output_type": "execute_result"
    }
   ],
   "execution_count": 5
  },
  {
   "metadata": {
    "ExecuteTime": {
     "end_time": "2025-10-01T18:38:46.322782Z",
     "start_time": "2025-10-01T18:38:46.320159Z"
    }
   },
   "cell_type": "code",
   "source": "type(z)",
   "id": "9b0b79d1393043f0",
   "outputs": [
    {
     "data": {
      "text/plain": [
       "int"
      ]
     },
     "execution_count": 6,
     "metadata": {},
     "output_type": "execute_result"
    }
   ],
   "execution_count": 6
  },
  {
   "metadata": {
    "ExecuteTime": {
     "end_time": "2025-10-01T18:38:46.343564Z",
     "start_time": "2025-10-01T18:38:46.341437Z"
    }
   },
   "cell_type": "code",
   "source": "print(f'{z}')",
   "id": "126eba2aa216662b",
   "outputs": [
    {
     "name": "stdout",
     "output_type": "stream",
     "text": [
      "4\n"
     ]
    }
   ],
   "execution_count": 7
  },
  {
   "metadata": {
    "ExecuteTime": {
     "end_time": "2025-10-01T18:38:46.353136Z",
     "start_time": "2025-10-01T18:38:46.351335Z"
    }
   },
   "cell_type": "code",
   "source": "print(f\"{z}\")",
   "id": "7a80b4c9bccff6eb",
   "outputs": [
    {
     "name": "stdout",
     "output_type": "stream",
     "text": [
      "4\n"
     ]
    }
   ],
   "execution_count": 8
  },
  {
   "metadata": {
    "ExecuteTime": {
     "end_time": "2025-10-01T18:38:46.361641Z",
     "start_time": "2025-10-01T18:38:46.359026Z"
    }
   },
   "cell_type": "code",
   "source": "type(\"any string\")",
   "id": "8c121be2e2055e80",
   "outputs": [
    {
     "data": {
      "text/plain": [
       "str"
      ]
     },
     "execution_count": 9,
     "metadata": {},
     "output_type": "execute_result"
    }
   ],
   "execution_count": 9
  },
  {
   "metadata": {
    "ExecuteTime": {
     "end_time": "2025-10-01T18:38:46.370695Z",
     "start_time": "2025-10-01T18:38:46.368355Z"
    }
   },
   "cell_type": "code",
   "source": "isinstance(x, int)",
   "id": "ef8736641926a804",
   "outputs": [
    {
     "data": {
      "text/plain": [
       "False"
      ]
     },
     "execution_count": 10,
     "metadata": {},
     "output_type": "execute_result"
    }
   ],
   "execution_count": 10
  },
  {
   "metadata": {
    "ExecuteTime": {
     "end_time": "2025-10-01T18:38:46.515868Z",
     "start_time": "2025-10-01T18:38:46.374354Z"
    }
   },
   "cell_type": "code",
   "source": [
    "import numpy as np\n",
    "a = np.array([1, 2, 3, 4.3])\n",
    "a = a > 2\n",
    "a"
   ],
   "id": "3d29371dbf9aaa0b",
   "outputs": [
    {
     "data": {
      "text/plain": [
       "array([False, False,  True,  True])"
      ]
     },
     "execution_count": 11,
     "metadata": {},
     "output_type": "execute_result"
    }
   ],
   "execution_count": 11
  },
  {
   "metadata": {
    "ExecuteTime": {
     "end_time": "2025-10-01T18:38:46.980052Z",
     "start_time": "2025-10-01T18:38:46.607933Z"
    }
   },
   "cell_type": "code",
   "source": [
    "import pandas as pd\n",
    "w = pd.DataFrame(np.array([1, 2, 3, 4]).reshape(2, 2), index=['a', 'b'], columns=['x', 'y'])\n",
    "w"
   ],
   "id": "3f598615df5728d9",
   "outputs": [
    {
     "data": {
      "text/plain": [
       "   x  y\n",
       "a  1  2\n",
       "b  3  4"
      ],
      "text/html": [
       "<div>\n",
       "<style scoped>\n",
       "    .dataframe tbody tr th:only-of-type {\n",
       "        vertical-align: middle;\n",
       "    }\n",
       "\n",
       "    .dataframe tbody tr th {\n",
       "        vertical-align: top;\n",
       "    }\n",
       "\n",
       "    .dataframe thead th {\n",
       "        text-align: right;\n",
       "    }\n",
       "</style>\n",
       "<table border=\"1\" class=\"dataframe\">\n",
       "  <thead>\n",
       "    <tr style=\"text-align: right;\">\n",
       "      <th></th>\n",
       "      <th>x</th>\n",
       "      <th>y</th>\n",
       "    </tr>\n",
       "  </thead>\n",
       "  <tbody>\n",
       "    <tr>\n",
       "      <th>a</th>\n",
       "      <td>1</td>\n",
       "      <td>2</td>\n",
       "    </tr>\n",
       "    <tr>\n",
       "      <th>b</th>\n",
       "      <td>3</td>\n",
       "      <td>4</td>\n",
       "    </tr>\n",
       "  </tbody>\n",
       "</table>\n",
       "</div>"
      ]
     },
     "execution_count": 12,
     "metadata": {},
     "output_type": "execute_result"
    }
   ],
   "execution_count": 12
  },
  {
   "metadata": {
    "ExecuteTime": {
     "end_time": "2025-10-01T18:38:46.991212Z",
     "start_time": "2025-10-01T18:38:46.987740Z"
    }
   },
   "cell_type": "code",
   "source": "w * 10",
   "id": "fd08a6a96ef7558f",
   "outputs": [
    {
     "data": {
      "text/plain": [
       "    x   y\n",
       "a  10  20\n",
       "b  30  40"
      ],
      "text/html": [
       "<div>\n",
       "<style scoped>\n",
       "    .dataframe tbody tr th:only-of-type {\n",
       "        vertical-align: middle;\n",
       "    }\n",
       "\n",
       "    .dataframe tbody tr th {\n",
       "        vertical-align: top;\n",
       "    }\n",
       "\n",
       "    .dataframe thead th {\n",
       "        text-align: right;\n",
       "    }\n",
       "</style>\n",
       "<table border=\"1\" class=\"dataframe\">\n",
       "  <thead>\n",
       "    <tr style=\"text-align: right;\">\n",
       "      <th></th>\n",
       "      <th>x</th>\n",
       "      <th>y</th>\n",
       "    </tr>\n",
       "  </thead>\n",
       "  <tbody>\n",
       "    <tr>\n",
       "      <th>a</th>\n",
       "      <td>10</td>\n",
       "      <td>20</td>\n",
       "    </tr>\n",
       "    <tr>\n",
       "      <th>b</th>\n",
       "      <td>30</td>\n",
       "      <td>40</td>\n",
       "    </tr>\n",
       "  </tbody>\n",
       "</table>\n",
       "</div>"
      ]
     },
     "execution_count": 13,
     "metadata": {},
     "output_type": "execute_result"
    }
   ],
   "execution_count": 13
  },
  {
   "metadata": {
    "ExecuteTime": {
     "end_time": "2025-10-01T18:38:47.000855Z",
     "start_time": "2025-10-01T18:38:46.999053Z"
    }
   },
   "cell_type": "code",
   "source": [
    "w1 = w\n",
    "w2 = pd.DataFrame(np.array([4, 3, 2, 1]).reshape(2, 2), index=['a', 'b'], columns=['x', 'y'])"
   ],
   "id": "fe17fe0a2c272fd4",
   "outputs": [],
   "execution_count": 14
  },
  {
   "metadata": {
    "ExecuteTime": {
     "end_time": "2025-10-01T18:38:47.016617Z",
     "start_time": "2025-10-01T18:38:47.012708Z"
    }
   },
   "cell_type": "code",
   "source": "w1 + w2",
   "id": "c73a0969d25257a",
   "outputs": [
    {
     "data": {
      "text/plain": [
       "   x  y\n",
       "a  5  5\n",
       "b  5  5"
      ],
      "text/html": [
       "<div>\n",
       "<style scoped>\n",
       "    .dataframe tbody tr th:only-of-type {\n",
       "        vertical-align: middle;\n",
       "    }\n",
       "\n",
       "    .dataframe tbody tr th {\n",
       "        vertical-align: top;\n",
       "    }\n",
       "\n",
       "    .dataframe thead th {\n",
       "        text-align: right;\n",
       "    }\n",
       "</style>\n",
       "<table border=\"1\" class=\"dataframe\">\n",
       "  <thead>\n",
       "    <tr style=\"text-align: right;\">\n",
       "      <th></th>\n",
       "      <th>x</th>\n",
       "      <th>y</th>\n",
       "    </tr>\n",
       "  </thead>\n",
       "  <tbody>\n",
       "    <tr>\n",
       "      <th>a</th>\n",
       "      <td>5</td>\n",
       "      <td>5</td>\n",
       "    </tr>\n",
       "    <tr>\n",
       "      <th>b</th>\n",
       "      <td>5</td>\n",
       "      <td>5</td>\n",
       "    </tr>\n",
       "  </tbody>\n",
       "</table>\n",
       "</div>"
      ]
     },
     "execution_count": 15,
     "metadata": {},
     "output_type": "execute_result"
    }
   ],
   "execution_count": 15
  },
  {
   "metadata": {
    "ExecuteTime": {
     "end_time": "2025-10-01T18:38:47.023435Z",
     "start_time": "2025-10-01T18:38:47.020386Z"
    }
   },
   "cell_type": "code",
   "source": "w1 - w2",
   "id": "580c37ea75775",
   "outputs": [
    {
     "data": {
      "text/plain": [
       "   x  y\n",
       "a -3 -1\n",
       "b  1  3"
      ],
      "text/html": [
       "<div>\n",
       "<style scoped>\n",
       "    .dataframe tbody tr th:only-of-type {\n",
       "        vertical-align: middle;\n",
       "    }\n",
       "\n",
       "    .dataframe tbody tr th {\n",
       "        vertical-align: top;\n",
       "    }\n",
       "\n",
       "    .dataframe thead th {\n",
       "        text-align: right;\n",
       "    }\n",
       "</style>\n",
       "<table border=\"1\" class=\"dataframe\">\n",
       "  <thead>\n",
       "    <tr style=\"text-align: right;\">\n",
       "      <th></th>\n",
       "      <th>x</th>\n",
       "      <th>y</th>\n",
       "    </tr>\n",
       "  </thead>\n",
       "  <tbody>\n",
       "    <tr>\n",
       "      <th>a</th>\n",
       "      <td>-3</td>\n",
       "      <td>-1</td>\n",
       "    </tr>\n",
       "    <tr>\n",
       "      <th>b</th>\n",
       "      <td>1</td>\n",
       "      <td>3</td>\n",
       "    </tr>\n",
       "  </tbody>\n",
       "</table>\n",
       "</div>"
      ]
     },
     "execution_count": 16,
     "metadata": {},
     "output_type": "execute_result"
    }
   ],
   "execution_count": 16
  },
  {
   "metadata": {
    "ExecuteTime": {
     "end_time": "2025-10-01T18:38:47.029916Z",
     "start_time": "2025-10-01T18:38:47.026898Z"
    }
   },
   "cell_type": "code",
   "source": "w1 * w2",
   "id": "ade6bec81966fdd4",
   "outputs": [
    {
     "data": {
      "text/plain": [
       "   x  y\n",
       "a  4  6\n",
       "b  6  4"
      ],
      "text/html": [
       "<div>\n",
       "<style scoped>\n",
       "    .dataframe tbody tr th:only-of-type {\n",
       "        vertical-align: middle;\n",
       "    }\n",
       "\n",
       "    .dataframe tbody tr th {\n",
       "        vertical-align: top;\n",
       "    }\n",
       "\n",
       "    .dataframe thead th {\n",
       "        text-align: right;\n",
       "    }\n",
       "</style>\n",
       "<table border=\"1\" class=\"dataframe\">\n",
       "  <thead>\n",
       "    <tr style=\"text-align: right;\">\n",
       "      <th></th>\n",
       "      <th>x</th>\n",
       "      <th>y</th>\n",
       "    </tr>\n",
       "  </thead>\n",
       "  <tbody>\n",
       "    <tr>\n",
       "      <th>a</th>\n",
       "      <td>4</td>\n",
       "      <td>6</td>\n",
       "    </tr>\n",
       "    <tr>\n",
       "      <th>b</th>\n",
       "      <td>6</td>\n",
       "      <td>4</td>\n",
       "    </tr>\n",
       "  </tbody>\n",
       "</table>\n",
       "</div>"
      ]
     },
     "execution_count": 17,
     "metadata": {},
     "output_type": "execute_result"
    }
   ],
   "execution_count": 17
  },
  {
   "metadata": {
    "ExecuteTime": {
     "end_time": "2025-10-01T18:38:47.038856Z",
     "start_time": "2025-10-01T18:38:47.035186Z"
    }
   },
   "cell_type": "code",
   "source": "w.rename(columns={'x': 'z'}, inplace = False)",
   "id": "88883f907dcf4b12",
   "outputs": [
    {
     "data": {
      "text/plain": [
       "   z  y\n",
       "a  1  2\n",
       "b  3  4"
      ],
      "text/html": [
       "<div>\n",
       "<style scoped>\n",
       "    .dataframe tbody tr th:only-of-type {\n",
       "        vertical-align: middle;\n",
       "    }\n",
       "\n",
       "    .dataframe tbody tr th {\n",
       "        vertical-align: top;\n",
       "    }\n",
       "\n",
       "    .dataframe thead th {\n",
       "        text-align: right;\n",
       "    }\n",
       "</style>\n",
       "<table border=\"1\" class=\"dataframe\">\n",
       "  <thead>\n",
       "    <tr style=\"text-align: right;\">\n",
       "      <th></th>\n",
       "      <th>z</th>\n",
       "      <th>y</th>\n",
       "    </tr>\n",
       "  </thead>\n",
       "  <tbody>\n",
       "    <tr>\n",
       "      <th>a</th>\n",
       "      <td>1</td>\n",
       "      <td>2</td>\n",
       "    </tr>\n",
       "    <tr>\n",
       "      <th>b</th>\n",
       "      <td>3</td>\n",
       "      <td>4</td>\n",
       "    </tr>\n",
       "  </tbody>\n",
       "</table>\n",
       "</div>"
      ]
     },
     "execution_count": 18,
     "metadata": {},
     "output_type": "execute_result"
    }
   ],
   "execution_count": 18
  },
  {
   "metadata": {
    "ExecuteTime": {
     "end_time": "2025-10-01T18:38:47.046066Z",
     "start_time": "2025-10-01T18:38:47.042749Z"
    }
   },
   "cell_type": "code",
   "source": [
    "g = w.rename(columns={'x': 'z'}, inplace = False)\n",
    "print(w)\n",
    "g"
   ],
   "id": "7f31584231e56c89",
   "outputs": [
    {
     "name": "stdout",
     "output_type": "stream",
     "text": [
      "   x  y\n",
      "a  1  2\n",
      "b  3  4\n"
     ]
    },
    {
     "data": {
      "text/plain": [
       "   z  y\n",
       "a  1  2\n",
       "b  3  4"
      ],
      "text/html": [
       "<div>\n",
       "<style scoped>\n",
       "    .dataframe tbody tr th:only-of-type {\n",
       "        vertical-align: middle;\n",
       "    }\n",
       "\n",
       "    .dataframe tbody tr th {\n",
       "        vertical-align: top;\n",
       "    }\n",
       "\n",
       "    .dataframe thead th {\n",
       "        text-align: right;\n",
       "    }\n",
       "</style>\n",
       "<table border=\"1\" class=\"dataframe\">\n",
       "  <thead>\n",
       "    <tr style=\"text-align: right;\">\n",
       "      <th></th>\n",
       "      <th>z</th>\n",
       "      <th>y</th>\n",
       "    </tr>\n",
       "  </thead>\n",
       "  <tbody>\n",
       "    <tr>\n",
       "      <th>a</th>\n",
       "      <td>1</td>\n",
       "      <td>2</td>\n",
       "    </tr>\n",
       "    <tr>\n",
       "      <th>b</th>\n",
       "      <td>3</td>\n",
       "      <td>4</td>\n",
       "    </tr>\n",
       "  </tbody>\n",
       "</table>\n",
       "</div>"
      ]
     },
     "execution_count": 19,
     "metadata": {},
     "output_type": "execute_result"
    }
   ],
   "execution_count": 19
  },
  {
   "metadata": {
    "ExecuteTime": {
     "end_time": "2025-10-01T18:38:47.054905Z",
     "start_time": "2025-10-01T18:38:47.051664Z"
    }
   },
   "cell_type": "code",
   "source": [
    "import pandas as pd\n",
    "data = {\"x\":[1, 2, 3], \"y\":[4, 5, 6], \"z\":[\"a\", \"b\", \"c\"]}\n",
    "frame = pd.DataFrame(data)\n",
    "frame"
   ],
   "id": "1ccac026fb032a14",
   "outputs": [
    {
     "data": {
      "text/plain": [
       "   x  y  z\n",
       "0  1  4  a\n",
       "1  2  5  b\n",
       "2  3  6  c"
      ],
      "text/html": [
       "<div>\n",
       "<style scoped>\n",
       "    .dataframe tbody tr th:only-of-type {\n",
       "        vertical-align: middle;\n",
       "    }\n",
       "\n",
       "    .dataframe tbody tr th {\n",
       "        vertical-align: top;\n",
       "    }\n",
       "\n",
       "    .dataframe thead th {\n",
       "        text-align: right;\n",
       "    }\n",
       "</style>\n",
       "<table border=\"1\" class=\"dataframe\">\n",
       "  <thead>\n",
       "    <tr style=\"text-align: right;\">\n",
       "      <th></th>\n",
       "      <th>x</th>\n",
       "      <th>y</th>\n",
       "      <th>z</th>\n",
       "    </tr>\n",
       "  </thead>\n",
       "  <tbody>\n",
       "    <tr>\n",
       "      <th>0</th>\n",
       "      <td>1</td>\n",
       "      <td>4</td>\n",
       "      <td>a</td>\n",
       "    </tr>\n",
       "    <tr>\n",
       "      <th>1</th>\n",
       "      <td>2</td>\n",
       "      <td>5</td>\n",
       "      <td>b</td>\n",
       "    </tr>\n",
       "    <tr>\n",
       "      <th>2</th>\n",
       "      <td>3</td>\n",
       "      <td>6</td>\n",
       "      <td>c</td>\n",
       "    </tr>\n",
       "  </tbody>\n",
       "</table>\n",
       "</div>"
      ]
     },
     "execution_count": 20,
     "metadata": {},
     "output_type": "execute_result"
    }
   ],
   "execution_count": 20
  },
  {
   "metadata": {
    "ExecuteTime": {
     "end_time": "2025-10-01T18:38:47.067891Z",
     "start_time": "2025-10-01T18:38:47.061028Z"
    }
   },
   "cell_type": "code",
   "source": "frame.info()",
   "id": "cb5f2017f3bd01d2",
   "outputs": [
    {
     "name": "stdout",
     "output_type": "stream",
     "text": [
      "<class 'pandas.core.frame.DataFrame'>\n",
      "RangeIndex: 3 entries, 0 to 2\n",
      "Data columns (total 3 columns):\n",
      " #   Column  Non-Null Count  Dtype \n",
      "---  ------  --------------  ----- \n",
      " 0   x       3 non-null      int64 \n",
      " 1   y       3 non-null      int64 \n",
      " 2   z       3 non-null      object\n",
      "dtypes: int64(2), object(1)\n",
      "memory usage: 204.0+ bytes\n"
     ]
    }
   ],
   "execution_count": 21
  },
  {
   "metadata": {
    "ExecuteTime": {
     "end_time": "2025-10-01T18:38:47.079041Z",
     "start_time": "2025-10-01T18:38:47.076708Z"
    }
   },
   "cell_type": "code",
   "source": [
    "s = [1, 2, 3, 4]\n",
    "n = [\"a\", \"b\", \"c\", \"d\"]\n",
    "s + n"
   ],
   "id": "ced0136b38c1294c",
   "outputs": [
    {
     "data": {
      "text/plain": [
       "[1, 2, 3, 4, 'a', 'b', 'c', 'd']"
      ]
     },
     "execution_count": 22,
     "metadata": {},
     "output_type": "execute_result"
    }
   ],
   "execution_count": 22
  },
  {
   "metadata": {
    "ExecuteTime": {
     "end_time": "2025-10-01T18:38:47.092374Z",
     "start_time": "2025-10-01T18:38:47.089945Z"
    }
   },
   "cell_type": "code",
   "source": [
    "X = list(s + n)\n",
    "X"
   ],
   "id": "5cd8eca16a3ddfea",
   "outputs": [
    {
     "data": {
      "text/plain": [
       "[1, 2, 3, 4, 'a', 'b', 'c', 'd']"
      ]
     },
     "execution_count": 23,
     "metadata": {},
     "output_type": "execute_result"
    }
   ],
   "execution_count": 23
  }
 ],
 "metadata": {
  "kernelspec": {
   "display_name": "Master Classes (Python3.12)",
   "language": "python",
   "name": "master-classes"
  },
  "language_info": {
   "codemirror_mode": {
    "name": "ipython",
    "version": 3
   },
   "file_extension": ".py",
   "mimetype": "text/x-python",
   "name": "python",
   "nbconvert_exporter": "python",
   "pygments_lexer": "ipython3",
   "version": "3.12.11"
  }
 },
 "nbformat": 4,
 "nbformat_minor": 5
}
