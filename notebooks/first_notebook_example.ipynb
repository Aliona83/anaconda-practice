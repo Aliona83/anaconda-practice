{
 "cells": [
  {
   "cell_type": "markdown",
   "metadata": {},
   "source": [
    "# Very first example notebook\n",
    "This notebook is a simple demostration on how to use the local lib called `unilab` with *autoreload*"
   ],
   "id": "eb605ba0f426eaa5"
  },
  {
   "cell_type": "code",
   "execution_count": null,
   "metadata": {},
   "outputs": [],
   "source": [
    "%load_ext autoreload\n",
    "%autoreload 2\n",
    "from unilab import hello, mean\n",
    "hello('Nilton')\n",
    "mean([10, 20, 30])"
   ],
   "id": "e19ff30e40f7a86"
  }
 ],
 "metadata": {
  "kernelspec": {
   "display_name": "Python 3",
   "language": "python",
   "name": "python3"
  },
  "language_info": {
   "name": "python",
   "version": "3.11.8"
  }
 },
 "nbformat": 4,
 "nbformat_minor": 5
}
