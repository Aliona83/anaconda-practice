{
 "cells": [
  {
   "cell_type": "markdown",
   "id": "eb605ba0f426eaa5",
   "metadata": {},
   "source": [
    "# Very first example notebook\n",
    "This notebook is a simple demostration on how to use the local lib called `unilab` with *autoreload*"
   ]
  },
  {
   "cell_type": "code",
   "execution_count": null,
   "id": "e19ff30e40f7a86",
   "metadata": {},
   "outputs": [],
   "source": [
    "%load_ext autoreload\n",
    "%autoreload 2\n",
    "from unilab import hello, mean\n",
    "hello('Nilton')\n",
    "mean([10, 20, 30])"
   ]
  }
 ],
 "metadata": {
  "kernelspec": {
   "display_name": "Master Classes (Python3.12)",
   "language": "python",
   "name": "master-classes"
  },
  "language_info": {
   "codemirror_mode": {
    "name": "ipython",
    "version": 3
   },
   "file_extension": ".py",
   "mimetype": "text/x-python",
   "name": "python",
   "nbconvert_exporter": "python",
   "pygments_lexer": "ipython3",
   "version": "3.12.11"
  }
 },
 "nbformat": 4,
 "nbformat_minor": 5
}
